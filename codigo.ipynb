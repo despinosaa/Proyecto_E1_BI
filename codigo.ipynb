{
 "cells": [
  {
   "cell_type": "markdown",
   "metadata": {},
   "source": [
    "### PROYECTO 1 - ETAPA 1\n",
    "**GRUPO 2:** \\\n",
    "Juana Mejía \\\n",
    "Daniela Espinosa 202022615 \\\n",
    "Panblo Ortega"
   ]
  },
  {
   "cell_type": "markdown",
   "metadata": {},
   "source": [
    "#### Carga de datos"
   ]
  },
  {
   "cell_type": "code",
   "execution_count": 5,
   "metadata": {},
   "outputs": [
    {
     "data": {
      "text/plain": [
       "(4049, 2)"
      ]
     },
     "execution_count": 5,
     "metadata": {},
     "output_type": "execute_result"
    }
   ],
   "source": [
    "import pandas as pd\n",
    "df = pd.read_excel('ODScat_345.xlsx')\n",
    "df.shape"
   ]
  },
  {
   "cell_type": "markdown",
   "metadata": {},
   "source": [
    "#### Perfilamiento de los Datos\n"
   ]
  },
  {
   "cell_type": "code",
   "execution_count": 6,
   "metadata": {},
   "outputs": [
    {
     "data": {
      "text/html": [
       "<div>\n",
       "<style scoped>\n",
       "    .dataframe tbody tr th:only-of-type {\n",
       "        vertical-align: middle;\n",
       "    }\n",
       "\n",
       "    .dataframe tbody tr th {\n",
       "        vertical-align: top;\n",
       "    }\n",
       "\n",
       "    .dataframe thead th {\n",
       "        text-align: right;\n",
       "    }\n",
       "</style>\n",
       "<table border=\"1\" class=\"dataframe\">\n",
       "  <thead>\n",
       "    <tr style=\"text-align: right;\">\n",
       "      <th></th>\n",
       "      <th>sdg</th>\n",
       "    </tr>\n",
       "  </thead>\n",
       "  <tbody>\n",
       "    <tr>\n",
       "      <th>count</th>\n",
       "      <td>4049.000000</td>\n",
       "    </tr>\n",
       "    <tr>\n",
       "      <th>mean</th>\n",
       "      <td>4.051124</td>\n",
       "    </tr>\n",
       "    <tr>\n",
       "      <th>std</th>\n",
       "      <td>0.814338</td>\n",
       "    </tr>\n",
       "    <tr>\n",
       "      <th>min</th>\n",
       "      <td>3.000000</td>\n",
       "    </tr>\n",
       "    <tr>\n",
       "      <th>25%</th>\n",
       "      <td>3.000000</td>\n",
       "    </tr>\n",
       "    <tr>\n",
       "      <th>50%</th>\n",
       "      <td>4.000000</td>\n",
       "    </tr>\n",
       "    <tr>\n",
       "      <th>75%</th>\n",
       "      <td>5.000000</td>\n",
       "    </tr>\n",
       "    <tr>\n",
       "      <th>max</th>\n",
       "      <td>5.000000</td>\n",
       "    </tr>\n",
       "  </tbody>\n",
       "</table>\n",
       "</div>"
      ],
      "text/plain": [
       "               sdg\n",
       "count  4049.000000\n",
       "mean      4.051124\n",
       "std       0.814338\n",
       "min       3.000000\n",
       "25%       3.000000\n",
       "50%       4.000000\n",
       "75%       5.000000\n",
       "max       5.000000"
      ]
     },
     "execution_count": 6,
     "metadata": {},
     "output_type": "execute_result"
    }
   ],
   "source": [
    "# Estadisticas descriptivas\n",
    "df.describe()"
   ]
  },
  {
   "cell_type": "code",
   "execution_count": 7,
   "metadata": {},
   "outputs": [
    {
     "name": "stdout",
     "output_type": "stream",
     "text": [
      "<class 'pandas.core.frame.DataFrame'>\n",
      "RangeIndex: 4049 entries, 0 to 4048\n",
      "Data columns (total 2 columns):\n",
      " #   Column          Non-Null Count  Dtype \n",
      "---  ------          --------------  ----- \n",
      " 0   Textos_espanol  4049 non-null   object\n",
      " 1   sdg             4049 non-null   int64 \n",
      "dtypes: int64(1), object(1)\n",
      "memory usage: 63.4+ KB\n"
     ]
    }
   ],
   "source": [
    "# Informacion del data set\n",
    "df.info()"
   ]
  },
  {
   "cell_type": "markdown",
   "metadata": {},
   "source": [
    "Como podemos ver, el dataframe no tiene valores nulos."
   ]
  },
  {
   "cell_type": "code",
   "execution_count": 8,
   "metadata": {},
   "outputs": [
    {
     "name": "stdout",
     "output_type": "stream",
     "text": [
      "\n",
      "Número de registros duplicados: 0\n"
     ]
    }
   ],
   "source": [
    "# Análisis de duplicados\n",
    "duplicates = df.duplicated().sum()\n",
    "print(f\"\\nNúmero de registros duplicados: {duplicates}\")"
   ]
  },
  {
   "cell_type": "markdown",
   "metadata": {},
   "source": [
    "Tampoco tiene duplicados."
   ]
  },
  {
   "cell_type": "code",
   "execution_count": 9,
   "metadata": {},
   "outputs": [
    {
     "name": "stdout",
     "output_type": "stream",
     "text": [
      "Textos_espanol    [Por ejemplo, el nÃºmero de consultas externas...\n",
      "sdg                                                       [3, 4, 5]\n",
      "dtype: object\n",
      "Textos_espanol    4049\n",
      "sdg                  3\n",
      "dtype: int64\n"
     ]
    }
   ],
   "source": [
    "levels = df.apply(pd.Series.unique)\n",
    "num_levels = df.apply(pd.Series.nunique)\n",
    "\n",
    "print(levels)\n",
    "print(num_levels)"
   ]
  },
  {
   "cell_type": "markdown",
   "metadata": {},
   "source": [
    "La columna sdg contiene valores numéricos y tiene tres ategorías: [3, 4, 5]\n",
    "Todos los valores de Textos_espanol son de texto y son diferentes."
   ]
  },
  {
   "cell_type": "markdown",
   "metadata": {},
   "source": [
    "#### Limpieza de datos"
   ]
  },
  {
   "cell_type": "code",
   "execution_count": 10,
   "metadata": {},
   "outputs": [],
   "source": [
    "data = df.copy()"
   ]
  },
  {
   "cell_type": "code",
   "execution_count": 11,
   "metadata": {},
   "outputs": [
    {
     "name": "stderr",
     "output_type": "stream",
     "text": [
      "<>:3: SyntaxWarning: invalid escape sequence '\\w'\n",
      "<>:3: SyntaxWarning: invalid escape sequence '\\w'\n",
      "/var/folders/bs/h2v4f4wj3_3530n4hbtr9b4h0000gn/T/ipykernel_10944/4270954120.py:3: SyntaxWarning: invalid escape sequence '\\w'\n",
      "  data['Textos_espanol'] = data['Textos_espanol'].str.replace('[^\\w\\s]', '', regex=True)\n"
     ]
    }
   ],
   "source": [
    "# Normalización de textos\n",
    "data['Textos_espanol'] = data['Textos_espanol'].str.lower()\n",
    "data['Textos_espanol'] = data['Textos_espanol'].str.replace('[^\\w\\s]', '', regex=True)"
   ]
  },
  {
   "cell_type": "markdown",
   "metadata": {},
   "source": [
    "#### Vectorización de textos\n",
    "Encontrar el número óptimo del máximo de features:"
   ]
  },
  {
   "cell_type": "code",
   "execution_count": 12,
   "metadata": {},
   "outputs": [
    {
     "name": "stdout",
     "output_type": "stream",
     "text": [
      "Mejor número de max_features: 8000\n"
     ]
    },
    {
     "data": {
      "image/png": "[encoded data removed]",
      "text/plain": [
       "<Figure size 1000x600 with 1 Axes>"
      ]
     },
     "metadata": {},
     "output_type": "display_data"
    }
   ],
   "source": [
    "from sklearn.model_selection import GridSearchCV\n",
    "from sklearn.pipeline import Pipeline\n",
    "from sklearn.naive_bayes import MultinomialNB\n",
    "from sklearn.feature_extraction.text import TfidfVectorizer\n",
    "from sklearn.metrics import make_scorer, accuracy_score\n",
    "from nltk.corpus import stopwords\n",
    "import matplotlib.pyplot as plt\n",
    "\n",
    "# Cargar las palabras de parada en español\n",
    "spanish_stopwords = stopwords.words('spanish')\n",
    "\n",
    "# Definir el pipeline\n",
    "pipeline = Pipeline([\n",
    "    ('tfidf', TfidfVectorizer(stop_words=spanish_stopwords)),\n",
    "    ('clf', MultinomialNB())\n",
    "])\n",
    "\n",
    "# Definir el rango de parámetros para buscar\n",
    "param_grid = {\n",
    "    'tfidf__max_features': [1000,2000,3000,4000,5000,6000,7000,8000,9000,10000]\n",
    "}\n",
    "\n",
    "# Configurar el GridSearchCV\n",
    "grid_search = GridSearchCV(pipeline, param_grid, cv=5, scoring=make_scorer(accuracy_score))\n",
    "\n",
    "# Ajustar el modelo con el GridSearchCV\n",
    "grid_search.fit(data['Textos_espanol'], data['sdg'])\n",
    "\n",
    "# Mejor número de max_features\n",
    "best_max_features = grid_search.best_params_['tfidf__max_features']\n",
    "print(f\"Mejor número de max_features: {best_max_features}\")\n",
    "\n",
    "# Obtener los resultados de precisión media para cada valor de max_features\n",
    "mean_scores = grid_search.cv_results_['mean_test_score']\n",
    "\n",
    "# Graficar los resultados\n",
    "plt.figure(figsize=(10, 6))\n",
    "plt.plot(param_grid['tfidf__max_features'], mean_scores, marker='o', linestyle='-')\n",
    "plt.xlabel('Número de max_features')\n",
    "plt.ylabel('Precisión media')\n",
    "plt.title('Rendimiento del modelo según max_features')\n",
    "plt.grid(True)\n",
    "plt.show()\n",
    "\n"
   ]
  },
  {
   "cell_type": "markdown",
   "metadata": {},
   "source": [
    "Vectorizar el texto"
   ]
  },
  {
   "cell_type": "code",
   "execution_count": 13,
   "metadata": {},
   "outputs": [
    {
     "data": {
      "text/html": [
       "<div>\n",
       "<style scoped>\n",
       "    .dataframe tbody tr th:only-of-type {\n",
       "        vertical-align: middle;\n",
       "    }\n",
       "\n",
       "    .dataframe tbody tr th {\n",
       "        vertical-align: top;\n",
       "    }\n",
       "\n",
       "    .dataframe thead th {\n",
       "        text-align: right;\n",
       "    }\n",
       "</style>\n",
       "<table border=\"1\" class=\"dataframe\">\n",
       "  <thead>\n",
       "    <tr style=\"text-align: right;\">\n",
       "      <th></th>\n",
       "      <th>sdg</th>\n",
       "      <th>000</th>\n",
       "      <th>01</th>\n",
       "      <th>016</th>\n",
       "      <th>02</th>\n",
       "      <th>03</th>\n",
       "      <th>04</th>\n",
       "      <th>05</th>\n",
       "      <th>06</th>\n",
       "      <th>07</th>\n",
       "      <th>...</th>\n",
       "      <th>últimas</th>\n",
       "      <th>último</th>\n",
       "      <th>últimos</th>\n",
       "      <th>única</th>\n",
       "      <th>únicamente</th>\n",
       "      <th>únicas</th>\n",
       "      <th>único</th>\n",
       "      <th>únicos</th>\n",
       "      <th>útil</th>\n",
       "      <th>útiles</th>\n",
       "    </tr>\n",
       "  </thead>\n",
       "  <tbody>\n",
       "    <tr>\n",
       "      <th>0</th>\n",
       "      <td>3</td>\n",
       "      <td>0.0</td>\n",
       "      <td>0.0</td>\n",
       "      <td>0.0</td>\n",
       "      <td>0.0</td>\n",
       "      <td>0.000000</td>\n",
       "      <td>0.0</td>\n",
       "      <td>0.0</td>\n",
       "      <td>0.0</td>\n",
       "      <td>0.0</td>\n",
       "      <td>...</td>\n",
       "      <td>0.0</td>\n",
       "      <td>0.0</td>\n",
       "      <td>0.0</td>\n",
       "      <td>0.0</td>\n",
       "      <td>0.0</td>\n",
       "      <td>0.0</td>\n",
       "      <td>0.0</td>\n",
       "      <td>0.0</td>\n",
       "      <td>0.0</td>\n",
       "      <td>0.000000</td>\n",
       "    </tr>\n",
       "    <tr>\n",
       "      <th>1</th>\n",
       "      <td>3</td>\n",
       "      <td>0.0</td>\n",
       "      <td>0.0</td>\n",
       "      <td>0.0</td>\n",
       "      <td>0.0</td>\n",
       "      <td>0.184249</td>\n",
       "      <td>0.0</td>\n",
       "      <td>0.0</td>\n",
       "      <td>0.0</td>\n",
       "      <td>0.0</td>\n",
       "      <td>...</td>\n",
       "      <td>0.0</td>\n",
       "      <td>0.0</td>\n",
       "      <td>0.0</td>\n",
       "      <td>0.0</td>\n",
       "      <td>0.0</td>\n",
       "      <td>0.0</td>\n",
       "      <td>0.0</td>\n",
       "      <td>0.0</td>\n",
       "      <td>0.0</td>\n",
       "      <td>0.000000</td>\n",
       "    </tr>\n",
       "    <tr>\n",
       "      <th>2</th>\n",
       "      <td>3</td>\n",
       "      <td>0.0</td>\n",
       "      <td>0.0</td>\n",
       "      <td>0.0</td>\n",
       "      <td>0.0</td>\n",
       "      <td>0.000000</td>\n",
       "      <td>0.0</td>\n",
       "      <td>0.0</td>\n",
       "      <td>0.0</td>\n",
       "      <td>0.0</td>\n",
       "      <td>...</td>\n",
       "      <td>0.0</td>\n",
       "      <td>0.0</td>\n",
       "      <td>0.0</td>\n",
       "      <td>0.0</td>\n",
       "      <td>0.0</td>\n",
       "      <td>0.0</td>\n",
       "      <td>0.0</td>\n",
       "      <td>0.0</td>\n",
       "      <td>0.0</td>\n",
       "      <td>0.000000</td>\n",
       "    </tr>\n",
       "    <tr>\n",
       "      <th>3</th>\n",
       "      <td>3</td>\n",
       "      <td>0.0</td>\n",
       "      <td>0.0</td>\n",
       "      <td>0.0</td>\n",
       "      <td>0.0</td>\n",
       "      <td>0.000000</td>\n",
       "      <td>0.0</td>\n",
       "      <td>0.0</td>\n",
       "      <td>0.0</td>\n",
       "      <td>0.0</td>\n",
       "      <td>...</td>\n",
       "      <td>0.0</td>\n",
       "      <td>0.0</td>\n",
       "      <td>0.0</td>\n",
       "      <td>0.0</td>\n",
       "      <td>0.0</td>\n",
       "      <td>0.0</td>\n",
       "      <td>0.0</td>\n",
       "      <td>0.0</td>\n",
       "      <td>0.0</td>\n",
       "      <td>0.000000</td>\n",
       "    </tr>\n",
       "    <tr>\n",
       "      <th>4</th>\n",
       "      <td>3</td>\n",
       "      <td>0.0</td>\n",
       "      <td>0.0</td>\n",
       "      <td>0.0</td>\n",
       "      <td>0.0</td>\n",
       "      <td>0.000000</td>\n",
       "      <td>0.0</td>\n",
       "      <td>0.0</td>\n",
       "      <td>0.0</td>\n",
       "      <td>0.0</td>\n",
       "      <td>...</td>\n",
       "      <td>0.0</td>\n",
       "      <td>0.0</td>\n",
       "      <td>0.0</td>\n",
       "      <td>0.0</td>\n",
       "      <td>0.0</td>\n",
       "      <td>0.0</td>\n",
       "      <td>0.0</td>\n",
       "      <td>0.0</td>\n",
       "      <td>0.0</td>\n",
       "      <td>0.000000</td>\n",
       "    </tr>\n",
       "    <tr>\n",
       "      <th>...</th>\n",
       "      <td>...</td>\n",
       "      <td>...</td>\n",
       "      <td>...</td>\n",
       "      <td>...</td>\n",
       "      <td>...</td>\n",
       "      <td>...</td>\n",
       "      <td>...</td>\n",
       "      <td>...</td>\n",
       "      <td>...</td>\n",
       "      <td>...</td>\n",
       "      <td>...</td>\n",
       "      <td>...</td>\n",
       "      <td>...</td>\n",
       "      <td>...</td>\n",
       "      <td>...</td>\n",
       "      <td>...</td>\n",
       "      <td>...</td>\n",
       "      <td>...</td>\n",
       "      <td>...</td>\n",
       "      <td>...</td>\n",
       "      <td>...</td>\n",
       "    </tr>\n",
       "    <tr>\n",
       "      <th>4044</th>\n",
       "      <td>5</td>\n",
       "      <td>0.0</td>\n",
       "      <td>0.0</td>\n",
       "      <td>0.0</td>\n",
       "      <td>0.0</td>\n",
       "      <td>0.000000</td>\n",
       "      <td>0.0</td>\n",
       "      <td>0.0</td>\n",
       "      <td>0.0</td>\n",
       "      <td>0.0</td>\n",
       "      <td>...</td>\n",
       "      <td>0.0</td>\n",
       "      <td>0.0</td>\n",
       "      <td>0.0</td>\n",
       "      <td>0.0</td>\n",
       "      <td>0.0</td>\n",
       "      <td>0.0</td>\n",
       "      <td>0.0</td>\n",
       "      <td>0.0</td>\n",
       "      <td>0.0</td>\n",
       "      <td>0.000000</td>\n",
       "    </tr>\n",
       "    <tr>\n",
       "      <th>4045</th>\n",
       "      <td>5</td>\n",
       "      <td>0.0</td>\n",
       "      <td>0.0</td>\n",
       "      <td>0.0</td>\n",
       "      <td>0.0</td>\n",
       "      <td>0.000000</td>\n",
       "      <td>0.0</td>\n",
       "      <td>0.0</td>\n",
       "      <td>0.0</td>\n",
       "      <td>0.0</td>\n",
       "      <td>...</td>\n",
       "      <td>0.0</td>\n",
       "      <td>0.0</td>\n",
       "      <td>0.0</td>\n",
       "      <td>0.0</td>\n",
       "      <td>0.0</td>\n",
       "      <td>0.0</td>\n",
       "      <td>0.0</td>\n",
       "      <td>0.0</td>\n",
       "      <td>0.0</td>\n",
       "      <td>0.000000</td>\n",
       "    </tr>\n",
       "    <tr>\n",
       "      <th>4046</th>\n",
       "      <td>5</td>\n",
       "      <td>0.0</td>\n",
       "      <td>0.0</td>\n",
       "      <td>0.0</td>\n",
       "      <td>0.0</td>\n",
       "      <td>0.000000</td>\n",
       "      <td>0.0</td>\n",
       "      <td>0.0</td>\n",
       "      <td>0.0</td>\n",
       "      <td>0.0</td>\n",
       "      <td>...</td>\n",
       "      <td>0.0</td>\n",
       "      <td>0.0</td>\n",
       "      <td>0.0</td>\n",
       "      <td>0.0</td>\n",
       "      <td>0.0</td>\n",
       "      <td>0.0</td>\n",
       "      <td>0.0</td>\n",
       "      <td>0.0</td>\n",
       "      <td>0.0</td>\n",
       "      <td>0.000000</td>\n",
       "    </tr>\n",
       "    <tr>\n",
       "      <th>4047</th>\n",
       "      <td>5</td>\n",
       "      <td>0.0</td>\n",
       "      <td>0.0</td>\n",
       "      <td>0.0</td>\n",
       "      <td>0.0</td>\n",
       "      <td>0.000000</td>\n",
       "      <td>0.0</td>\n",
       "      <td>0.0</td>\n",
       "      <td>0.0</td>\n",
       "      <td>0.0</td>\n",
       "      <td>...</td>\n",
       "      <td>0.0</td>\n",
       "      <td>0.0</td>\n",
       "      <td>0.0</td>\n",
       "      <td>0.0</td>\n",
       "      <td>0.0</td>\n",
       "      <td>0.0</td>\n",
       "      <td>0.0</td>\n",
       "      <td>0.0</td>\n",
       "      <td>0.0</td>\n",
       "      <td>0.000000</td>\n",
       "    </tr>\n",
       "    <tr>\n",
       "      <th>4048</th>\n",
       "      <td>5</td>\n",
       "      <td>0.0</td>\n",
       "      <td>0.0</td>\n",
       "      <td>0.0</td>\n",
       "      <td>0.0</td>\n",
       "      <td>0.000000</td>\n",
       "      <td>0.0</td>\n",
       "      <td>0.0</td>\n",
       "      <td>0.0</td>\n",
       "      <td>0.0</td>\n",
       "      <td>...</td>\n",
       "      <td>0.0</td>\n",
       "      <td>0.0</td>\n",
       "      <td>0.0</td>\n",
       "      <td>0.0</td>\n",
       "      <td>0.0</td>\n",
       "      <td>0.0</td>\n",
       "      <td>0.0</td>\n",
       "      <td>0.0</td>\n",
       "      <td>0.0</td>\n",
       "      <td>0.159819</td>\n",
       "    </tr>\n",
       "  </tbody>\n",
       "</table>\n",
       "<p>4049 rows × 8001 columns</p>\n",
       "</div>"
      ],
      "text/plain": [
       "      sdg  000   01  016   02        03   04   05   06   07  ...  últimas  \\\n",
       "0       3  0.0  0.0  0.0  0.0  0.000000  0.0  0.0  0.0  0.0  ...      0.0   \n",
       "1       3  0.0  0.0  0.0  0.0  0.184249  0.0  0.0  0.0  0.0  ...      0.0   \n",
       "2       3  0.0  0.0  0.0  0.0  0.000000  0.0  0.0  0.0  0.0  ...      0.0   \n",
       "3       3  0.0  0.0  0.0  0.0  0.000000  0.0  0.0  0.0  0.0  ...      0.0   \n",
       "4       3  0.0  0.0  0.0  0.0  0.000000  0.0  0.0  0.0  0.0  ...      0.0   \n",
       "...   ...  ...  ...  ...  ...       ...  ...  ...  ...  ...  ...      ...   \n",
       "4044    5  0.0  0.0  0.0  0.0  0.000000  0.0  0.0  0.0  0.0  ...      0.0   \n",
       "4045    5  0.0  0.0  0.0  0.0  0.000000  0.0  0.0  0.0  0.0  ...      0.0   \n",
       "4046    5  0.0  0.0  0.0  0.0  0.000000  0.0  0.0  0.0  0.0  ...      0.0   \n",
       "4047    5  0.0  0.0  0.0  0.0  0.000000  0.0  0.0  0.0  0.0  ...      0.0   \n",
       "4048    5  0.0  0.0  0.0  0.0  0.000000  0.0  0.0  0.0  0.0  ...      0.0   \n",
       "\n",
       "      último  últimos  única  únicamente  únicas  único  únicos  útil  \\\n",
       "0        0.0      0.0    0.0         0.0     0.0    0.0     0.0   0.0   \n",
       "1        0.0      0.0    0.0         0.0     0.0    0.0     0.0   0.0   \n",
       "2        0.0      0.0    0.0         0.0     0.0    0.0     0.0   0.0   \n",
       "3        0.0      0.0    0.0         0.0     0.0    0.0     0.0   0.0   \n",
       "4        0.0      0.0    0.0         0.0     0.0    0.0     0.0   0.0   \n",
       "...      ...      ...    ...         ...     ...    ...     ...   ...   \n",
       "4044     0.0      0.0    0.0         0.0     0.0    0.0     0.0   0.0   \n",
       "4045     0.0      0.0    0.0         0.0     0.0    0.0     0.0   0.0   \n",
       "4046     0.0      0.0    0.0         0.0     0.0    0.0     0.0   0.0   \n",
       "4047     0.0      0.0    0.0         0.0     0.0    0.0     0.0   0.0   \n",
       "4048     0.0      0.0    0.0         0.0     0.0    0.0     0.0   0.0   \n",
       "\n",
       "        útiles  \n",
       "0     0.000000  \n",
       "1     0.000000  \n",
       "2     0.000000  \n",
       "3     0.000000  \n",
       "4     0.000000  \n",
       "...        ...  \n",
       "4044  0.000000  \n",
       "4045  0.000000  \n",
       "4046  0.000000  \n",
       "4047  0.000000  \n",
       "4048  0.159819  \n",
       "\n",
       "[4049 rows x 8001 columns]"
      ]
     },
     "execution_count": 13,
     "metadata": {},
     "output_type": "execute_result"
    }
   ],
   "source": [
    "from nltk.corpus import stopwords\n",
    "from sklearn.feature_extraction.text import TfidfVectorizer\n",
    "\n",
    "# Cargar las palabras de parada en español\n",
    "spanish_stopwords = stopwords.words('spanish')\n",
    "\n",
    "# Vectorización de textos\n",
    "vectorizer = TfidfVectorizer(stop_words=spanish_stopwords, max_features=best_max_features)\n",
    "text_vectors = vectorizer.fit_transform(data['Textos_espanol'])\n",
    "text_data = pd.DataFrame(text_vectors.toarray(), columns=vectorizer.get_feature_names_out())\n",
    "\n",
    "# Concatenar con el dataset original\n",
    "data = pd.concat([data.drop(columns=['Textos_espanol']), text_data], axis=1)\n",
    "data"
   ]
  },
  {
   "cell_type": "markdown",
   "metadata": {},
   "source": [
    "#### Separar los datos en train y test"
   ]
  },
  {
   "cell_type": "code",
   "execution_count": 14,
   "metadata": {},
   "outputs": [],
   "source": [
    "from sklearn.model_selection import train_test_split\n",
    "\n",
    "# Dividir el conjunto de datos en características y variable objetivo\n",
    "X = data.drop(columns=['sdg'])\n",
    "Y = data[['sdg']]\n",
    "\n",
    "# Dividir los datos en conjunto de entrenamiento y prueba\n",
    "X_train, X_test, y_train, y_test = train_test_split(X, Y, test_size=0.2, random_state=42)\n"
   ]
  },
  {
   "cell_type": "markdown",
   "metadata": {},
   "source": [
    "#### Implementación de modelos"
   ]
  },
  {
   "cell_type": "code",
   "execution_count": 22,
   "metadata": {},
   "outputs": [
    {
     "name": "stderr",
     "output_type": "stream",
     "text": [
      "/opt/anaconda3/lib/python3.12/site-packages/sklearn/neighbors/_classification.py:238: DataConversionWarning: A column-vector y was passed when a 1d array was expected. Please change the shape of y to (n_samples,), for example using ravel().\n",
      "  return self._fit(X, y)\n"
     ]
    },
    {
     "name": "stdout",
     "output_type": "stream",
     "text": [
      "\n",
      "KNN Classifier Report:\n",
      "              precision    recall  f1-score   support\n",
      "\n",
      "           3       0.96      0.94      0.95       250\n",
      "           4       0.93      0.96      0.95       268\n",
      "           5       0.96      0.94      0.95       292\n",
      "\n",
      "    accuracy                           0.95       810\n",
      "   macro avg       0.95      0.95      0.95       810\n",
      "weighted avg       0.95      0.95      0.95       810\n",
      "\n"
     ]
    },
    {
     "data": {
      "image/png": "[encoded data removed]",
      "text/plain": [
       "<Figure size 800x600 with 2 Axes>"
      ]
     },
     "metadata": {},
     "output_type": "display_data"
    },
    {
     "name": "stderr",
     "output_type": "stream",
     "text": [
      "/opt/anaconda3/lib/python3.12/site-packages/sklearn/utils/validation.py:1300: DataConversionWarning: A column-vector y was passed when a 1d array was expected. Please change the shape of y to (n_samples, ), for example using ravel().\n",
      "  y = column_or_1d(y, warn=True)\n"
     ]
    },
    {
     "name": "stdout",
     "output_type": "stream",
     "text": [
      "\n",
      "Naive Bayes Classifier Report:\n",
      "              precision    recall  f1-score   support\n",
      "\n",
      "           3       1.00      0.97      0.98       250\n",
      "           4       0.96      0.98      0.97       268\n",
      "           5       0.97      0.98      0.97       292\n",
      "\n",
      "    accuracy                           0.98       810\n",
      "   macro avg       0.98      0.98      0.98       810\n",
      "weighted avg       0.98      0.98      0.98       810\n",
      "\n"
     ]
    },
    {
     "data": {
      "image/png": "[encoded data removed]",
      "text/plain": [
       "<Figure size 800x600 with 2 Axes>"
      ]
     },
     "metadata": {},
     "output_type": "display_data"
    },
    {
     "name": "stderr",
     "output_type": "stream",
     "text": [
      "/opt/anaconda3/lib/python3.12/site-packages/sklearn/base.py:1474: DataConversionWarning: A column-vector y was passed when a 1d array was expected. Please change the shape of y to (n_samples,), for example using ravel().\n",
      "  return fit_method(estimator, *args, **kwargs)\n"
     ]
    },
    {
     "name": "stdout",
     "output_type": "stream",
     "text": [
      "\n",
      "Random Forest Classifier Report:\n",
      "              precision    recall  f1-score   support\n",
      "\n",
      "           3       0.98      0.98      0.98       250\n",
      "           4       0.95      0.97      0.96       268\n",
      "           5       0.98      0.96      0.97       292\n",
      "\n",
      "    accuracy                           0.97       810\n",
      "   macro avg       0.97      0.97      0.97       810\n",
      "weighted avg       0.97      0.97      0.97       810\n",
      "\n"
     ]
    },
    {
     "data": {
      "image/png": "[encoded data removed]",
      "text/plain": [
       "<Figure size 800x600 with 2 Axes>"
      ]
     },
     "metadata": {},
     "output_type": "display_data"
    }
   ],
   "source": [
    "from sklearn.neighbors import KNeighborsClassifier\n",
    "from sklearn.naive_bayes import MultinomialNB\n",
    "from sklearn.ensemble import RandomForestClassifier\n",
    "from sklearn.metrics import classification_report\n",
    "import seaborn as sns\n",
    "from sklearn.metrics import confusion_matrix, classification_report\n",
    "\n",
    "# Definir los modelos en un diccionario\n",
    "models = {\n",
    "    'KNN': KNeighborsClassifier(n_neighbors=5),\n",
    "    'Naive Bayes': MultinomialNB(),\n",
    "    'Random Forest': RandomForestClassifier(n_estimators=100, random_state=42)\n",
    "}\n",
    "\n",
    "# Recorrer los modelos\n",
    "for name, model in models.items():\n",
    "       \n",
    "    # Entrenar el modelo\n",
    "    model.fit(X_train, y_train)\n",
    "    \n",
    "    # Predecir con el modelo entrenado\n",
    "    y_pred = model.predict(X_test)\n",
    "    \n",
    "    # Evaluar el modelo\n",
    "    print(f\"\\n{name} Classifier Report:\")\n",
    "    print(classification_report(y_test, y_pred))\n",
    "\n",
    "    # Matriz de confusión\n",
    "    cm = confusion_matrix(y_test, y_pred)\n",
    "    plt.figure(figsize=(8, 6))\n",
    "    sns.heatmap(cm, annot=True, fmt='d', cmap='Blues', xticklabels=['sdg3', 'sdg4', 'sdg5'], yticklabels=['sdg3', 'sdg4', 'sdg5'])\n",
    "    plt.title(f'{name} - Confusion Matrix')\n",
    "    plt.ylabel('True Labels')\n",
    "    plt.xlabel('Predicted Labels')\n",
    "    plt.show()\n",
    "    \n"
   ]
  },
  {
   "cell_type": "markdown",
   "metadata": {},
   "source": [
    "### Construcción del modelo con búsqueda de hiperparámetros ###"
   ]
  },
  {
   "cell_type": "code",
   "execution_count": 16,
   "metadata": {},
   "outputs": [],
   "source": [
    "from sklearn.model_selection import KFold \n",
    "particiones = KFold(n_splits=10, shuffle=True, random_state = 0)\n",
    "#aqui se establecieron el numero de particiones en 10 "
   ]
  },
  {
   "cell_type": "code",
   "execution_count": 24,
   "metadata": {},
   "outputs": [],
   "source": [
    "param_grids = {\n",
    "    'Naive Bayes': {'alpha': [0.1, 0.5, 1.0, 2.0]},\n",
    "    'KNN': {'n_neighbors': [3, 5, 7, 9],\n",
    "        'metric': ['minkowski','euclidean', 'manhattan']},\n",
    "    'Random Forest': {'criterion':['gini', 'entropy'],\n",
    "        'n_estimators': [50, 100, 200],\n",
    "        'max_depth': [1, 10, 20, 30],\n",
    "        'min_samples_split': [2, 5, 10]}\n",
    "}\n",
    "#se establecio el espacio de busqueda para los hiperparametros."
   ]
  },
  {
   "cell_type": "code",
   "execution_count": 30,
   "metadata": {},
   "outputs": [
    {
     "name": "stdout",
     "output_type": "stream",
     "text": [
      "encontrando hiperparametros para: Naive Bayes\n",
      "{'alpha': 1.0}\n",
      "MultinomialNB()\n",
      "Exactitud sobre entrenamiento: 0.99\n",
      "Exactitud sobre test: 0.98\n",
      "              precision    recall  f1-score   support\n",
      "\n",
      "           3       1.00      0.97      0.98       250\n",
      "           4       0.96      0.98      0.97       268\n",
      "           5       0.97      0.98      0.97       292\n",
      "\n",
      "    accuracy                           0.98       810\n",
      "   macro avg       0.98      0.98      0.98       810\n",
      "weighted avg       0.98      0.98      0.98       810\n",
      "\n",
      "encontrando hiperparametros para: KNN\n",
      "{'metric': 'minkowski', 'n_neighbors': 9}\n",
      "KNeighborsClassifier(n_neighbors=9)\n",
      "Exactitud sobre entrenamiento: 0.97\n",
      "Exactitud sobre test: 0.96\n",
      "              precision    recall  f1-score   support\n",
      "\n",
      "           3       0.96      0.96      0.96       250\n",
      "           4       0.96      0.97      0.96       268\n",
      "           5       0.97      0.96      0.96       292\n",
      "\n",
      "    accuracy                           0.96       810\n",
      "   macro avg       0.96      0.96      0.96       810\n",
      "weighted avg       0.96      0.96      0.96       810\n",
      "\n",
      "encontrando hiperparametros para: Random Forest\n",
      "{'criterion': 'entropy', 'max_depth': 30, 'min_samples_split': 2, 'n_estimators': 200}\n",
      "RandomForestClassifier(criterion='entropy', max_depth=30, n_estimators=200)\n",
      "Exactitud sobre entrenamiento: 1.00\n",
      "Exactitud sobre test: 0.96\n",
      "              precision    recall  f1-score   support\n",
      "\n",
      "           3       0.98      0.96      0.97       250\n",
      "           4       0.96      0.96      0.96       268\n",
      "           5       0.95      0.97      0.96       292\n",
      "\n",
      "    accuracy                           0.96       810\n",
      "   macro avg       0.96      0.96      0.96       810\n",
      "weighted avg       0.96      0.96      0.96       810\n",
      "\n"
     ]
    }
   ],
   "source": [
    "#se definen los modelos\n",
    "y_trainr = y_train.values.ravel()\n",
    "y_testr = y_train.values.ravel()\n",
    "models = {\n",
    "    'Naive Bayes': MultinomialNB(),\n",
    "    'KNN': KNeighborsClassifier(),\n",
    "    'Random Forest': RandomForestClassifier()\n",
    "}\n",
    "for name, model in models.items():\n",
    "    print(\"Encontrando Hiperparametros para: \"+ name)\n",
    "   # usamos GridSearch sobre el grid definido y con las particiones para la validacion \n",
    "    mejor_modelo = GridSearchCV(model,param_grids[name], cv=particiones)\n",
    "    #se entrena el modelo\n",
    "    mejor_modelo.fit(X_train, y_trainr)\n",
    "    bestparams= mejor_modelo.best_params_ \n",
    "    #se obtienen los mejores resultados de la busqueda\n",
    "    print(bestparams)\n",
    "    bestestimator= mejor_modelo.best_estimator_ \n",
    "\n",
    "    print(bestestimator)\n",
    "    y_pred_train =  bestestimator.predict(X_train)\n",
    "    y_pred = bestestimator.predict(X_test)\n",
    "    print('Exactitud sobre entrenamiento: %.2f' % accuracy_score(y_trainr, y_pred_train))\n",
    "    print('Exactitud sobre test: %.2f' % accuracy_score(y_test, y_pred)) \n",
    "    print(classification_report(y_test, y_pred))\n",
    "    \n"
   ]
  }
 ],
 "metadata": {
  "kernelspec": {
   "display_name": "Python 3.12.4 ('base')",
   "language": "python",
   "name": "python3"
  },
  "language_info": {
   "codemirror_mode": {
    "name": "ipython",
    "version": 3
   },
   "file_extension": ".py",
   "mimetype": "text/x-python",
   "name": "python",
   "nbconvert_exporter": "python",
   "pygments_lexer": "ipython3",
   "version": "3.12.4"
  },
  "vscode": {
   "interpreter": {
    "hash": "40d3a090f54c6569ab1632332b64b2c03c39dcf918b08424e98f38b5ae0af88f"
   }
  }
 },
 "nbformat": 4,
 "nbformat_minor": 2
}
